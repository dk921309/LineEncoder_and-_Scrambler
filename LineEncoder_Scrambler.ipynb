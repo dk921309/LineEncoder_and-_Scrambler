{
 "cells": [
  {
   "cell_type": "code",
   "execution_count": 1,
   "metadata": {},
   "outputs": [],
   "source": [
    "import matplotlib.pyplot as plt"
   ]
  },
  {
   "cell_type": "code",
   "execution_count": 2,
   "metadata": {},
   "outputs": [],
   "source": [
    "#Function to draw Unipolar\n",
    "def unipolar(data):\n",
    "    data1=list(data)\n",
    "    data1.insert(0,0)\n",
    "    return data1"
   ]
  },
  {
   "cell_type": "code",
   "execution_count": 3,
   "metadata": {},
   "outputs": [],
   "source": [
    "#Function to draw polar_rz\n",
    "def rz(data):\n",
    "    data1=list(data)\n",
    "    data1=[-1 if i==0 else 1 for i in data1]\n",
    "    li=[]\n",
    "    for i in range(len(data1)):\n",
    "        li.append(data1[i])\n",
    "        li.append(0)\n",
    "    return li\n"
   ]
  },
  {
   "cell_type": "code",
   "execution_count": 4,
   "metadata": {},
   "outputs": [],
   "source": [
    "#function to draw Polar NRZ-L\n",
    "def polar_nrzl(data):\n",
    "    data1=list(data)\n",
    "    data1.insert(0,0)\n",
    "    data1=[-1 if i==0 else 1 for i in data1]\n",
    "    return data1"
   ]
  },
  {
   "cell_type": "code",
   "execution_count": null,
   "metadata": {},
   "outputs": [],
   "source": [
    "#function to draw Polar NRZ-I\n",
    "def polar_nrzi(data):\n",
    "    data1=list(data)\n",
    "    lock=False\n",
    "    for i in range(len(data1)):\n",
    "        if data1[i]==1 and not lock:\n",
    "            lock=True\n",
    "            continue\n",
    "        if data1[i]==1 and lock:\n",
    "            if data1[i-1]==0:\n",
    "                data1[i]=1\n",
    "                continue\n",
    "            else :\n",
    "                data1[i]=0\n",
    "                continue\n",
    "        if lock:\n",
    "            data1[i]=data1[i-1]\n",
    "    data1=[-1 if i==0 else 1 for i in data1]    \n",
    "    return data1"
   ]
  },
  {
   "cell_type": "code",
   "execution_count": null,
   "metadata": {},
   "outputs": [],
   "source": [
    "#fuction to draw MANCHESTER\n",
    "def manchester(data):\n",
    "    data1=list(data)\n",
    "    li,init=[],False\n",
    "    for i in range(len(data1)):\n",
    "        if data1[i]==0:\n",
    "            li.append(-1)\n",
    "            if not init:\n",
    "                li.append(-1)\n",
    "                init=True\n",
    "            li.append(1)\n",
    "        elif data1[i]==1:\n",
    "            li.append(1)\n",
    "            li.append(-1)\n",
    "    return li    "
   ]
  },
  {
   "cell_type": "code",
   "execution_count": null,
   "metadata": {},
   "outputs": [],
   "source": [
    "#Function to draw Differential Manchester\n",
    "def defmanchester(data):\n",
    "    data1=list(data)\n",
    "    li,lock,pre=[],False,''\n",
    "    for i in range(len(data1)):\n",
    "        if data1[i]==0 and not lock:\n",
    "            li.append(-1)\n",
    "            li.append(-1)\n",
    "            li.append(1)\n",
    "            lock=True\n",
    "            pre='S'\n",
    "        elif data1[i]==1 and not lock:\n",
    "            li.append(1)\n",
    "            li.append(1)\n",
    "            li.append(-1)\n",
    "            lock=True\n",
    "            pre='Z'\n",
    "        else:\n",
    "            if data1[i]==0:\n",
    "                if pre=='S':\n",
    "                    li.append(-1)\n",
    "                    li.append(1)\n",
    "                else:\n",
    "                    li.append(1)\n",
    "                    li.append(-1)\n",
    "            else:\n",
    "                if pre=='Z':\n",
    "                    pre='S'\n",
    "                    li.append(-1)\n",
    "                    li.append(1)\n",
    "                else:\n",
    "                    pre='Z'\n",
    "                    li.append(1)\n",
    "                    li.append(-1)\n",
    "    return li"
   ]
  },
  {
   "cell_type": "code",
   "execution_count": null,
   "metadata": {},
   "outputs": [],
   "source": [
    "#Function to draw AMI \n",
    "def ami(data):\n",
    "    data1=list(data)\n",
    "    data1.insert(0,0)\n",
    "    lock=False\n",
    "    for i in range(len(data1)):\n",
    "        if data1[i]==1 and not lock:\n",
    "            lock=True\n",
    "            continue\n",
    "        elif data1[i]==1 and lock:\n",
    "            data1[i]=-1\n",
    "            lock=False\n",
    "    return data1"
   ]
  },
  {
   "cell_type": "code",
   "execution_count": null,
   "metadata": {},
   "outputs": [],
   "source": [
    "#Fuunction for B8ZS\n",
    "def consecutive_zero(ls,pos):\n",
    "    count=0\n",
    "    for i in range(pos,len(ls)):\n",
    "        if ls[i]==0:\n",
    "            count=count+1\n",
    "        else:\n",
    "            break\n",
    "    return count\n",
    "def b8zs(data):\n",
    "    data1=list(data)\n",
    "    lock=False\n",
    "    for i in range(len(data1)):\n",
    "        if data1[i]==1 and not lock:\n",
    "            lock=True\n",
    "            continue\n",
    "        elif data1[i]==1 and lock:\n",
    "            data1[i]=-1\n",
    "            lock=False\n",
    "            continue\n",
    "        if data[i]==0:\n",
    "            total=consecutive_zero(data1,i)\n",
    "            if total>=8:\n",
    "                if lock:\n",
    "                    data1[i+3]=1\n",
    "                    data1[i+4]=-1\n",
    "                    data1[i+6]=-1\n",
    "                    data1[i+7]=1\n",
    "                    i=i+7\n",
    "                    continue\n",
    "                elif not lock:\n",
    "                    data1[i+3]=-1\n",
    "                    data1[i+4]=1\n",
    "                    data1[i+6]=1\n",
    "                    data1[i+7]=-1\n",
    "                    i=i+7\n",
    "                    continue\n",
    "            \n",
    "    return data1            \n",
    "            "
   ]
  },
  {
   "cell_type": "code",
   "execution_count": null,
   "metadata": {},
   "outputs": [],
   "source": [
    "#Function for HDB3\n",
    "def hdb3(data):\n",
    "    data1=list(data)\n",
    "    lock=False\n",
    "    c=0\n",
    "    for i in range(len(data1)):\n",
    "        if data1[i]==1 and not lock:\n",
    "            c=c+1\n",
    "            lock=True\n",
    "            continue\n",
    "        elif data1[i]==1 and lock:\n",
    "            c=c+1\n",
    "            data1[i]=-1\n",
    "            lock=False\n",
    "            continue\n",
    "            \n",
    "        if data1[i]==0:\n",
    "            total=consecutive_zero(data1,i)\n",
    "            if total>=4:\n",
    "                if c%2==0 and not lock:\n",
    "                    data1[i]=1\n",
    "                    data1[i+3]=1\n",
    "                    lock=True\n",
    "                    i=i+4\n",
    "                    continue\n",
    "                if c%2==0 and lock:\n",
    "                    data1[i]=-1\n",
    "                    data1[i+3]=-1\n",
    "                    lock=False\n",
    "                    i=i+4\n",
    "                    continue\n",
    "                if c%2!=0 and not lock:\n",
    "                    data1[i+3]=-1\n",
    "                    lock=False\n",
    "                    continue\n",
    "                if c%2!=0 and lock:\n",
    "                    data1[i+3]=1\n",
    "                    lock=True\n",
    "                    continue\n",
    "    return data1    "
   ]
  },
  {
   "cell_type": "code",
   "execution_count": null,
   "metadata": {},
   "outputs": [
    {
     "name": "stdout",
     "output_type": "stream",
     "text": [
      "Enter size of sequence:\n",
      "\n",
      "14\n",
      "Enter  14  bits of the sequence one by one:\n",
      "\n",
      "1\n",
      "1\n",
      "0\n",
      "0\n",
      "0\n",
      "0\n",
      "0\n",
      "0\n",
      "0\n",
      "0\n",
      "0\n",
      "0\n",
      "1\n",
      "0\n",
      "\n",
      "Enter\n",
      "1:FOR UNIPOLAR\t\t2:FOR Polar RZ\n",
      "3:FOR NRZ-L\t\t4:FOR NRZ-I\n",
      "5:FOR MANCHESTER\t6: FOR DIFFERENTIAL MANCHESTER\n",
      "7: FOR AMI\n",
      "\n",
      "1\n"
     ]
    },
    {
     "data": {
      "image/png": "[encoded data removed]",
      "text/plain": [
       "<Figure size 432x288 with 1 Axes>"
      ]
     },
     "metadata": {
      "needs_background": "light"
     },
     "output_type": "display_data"
    },
    {
     "name": "stdout",
     "output_type": "stream",
     "text": [
      "\n",
      "Enter\n",
      "1:FOR UNIPOLAR\t\t2:FOR Polar RZ\n",
      "3:FOR NRZ-L\t\t4:FOR NRZ-I\n",
      "5:FOR MANCHESTER\t6: FOR DIFFERENTIAL MANCHESTER\n",
      "7: FOR AMI\n",
      "\n",
      "2\n"
     ]
    },
    {
     "data": {
      "image/png": "[encoded data removed]",
      "text/plain": [
       "<Figure size 432x288 with 1 Axes>"
      ]
     },
     "metadata": {
      "needs_background": "light"
     },
     "output_type": "display_data"
    },
    {
     "name": "stdout",
     "output_type": "stream",
     "text": [
      "\n",
      "Enter\n",
      "1:FOR UNIPOLAR\t\t2:FOR Polar RZ\n",
      "3:FOR NRZ-L\t\t4:FOR NRZ-I\n",
      "5:FOR MANCHESTER\t6: FOR DIFFERENTIAL MANCHESTER\n",
      "7: FOR AMI\n",
      "\n",
      "3\n"
     ]
    },
    {
     "data": {
      "image/png": "[encoded data removed]",
      "text/plain": [
       "<Figure size 432x288 with 1 Axes>"
      ]
     },
     "metadata": {
      "needs_background": "light"
     },
     "output_type": "display_data"
    },
    {
     "name": "stdout",
     "output_type": "stream",
     "text": [
      "\n",
      "Enter\n",
      "1:FOR UNIPOLAR\t\t2:FOR Polar RZ\n",
      "3:FOR NRZ-L\t\t4:FOR NRZ-I\n",
      "5:FOR MANCHESTER\t6: FOR DIFFERENTIAL MANCHESTER\n",
      "7: FOR AMI\n",
      "\n",
      "4\n"
     ]
    },
    {
     "data": {
      "image/png": "[encoded data removed]",
      "text/plain": [
       "<Figure size 432x288 with 1 Axes>"
      ]
     },
     "metadata": {
      "needs_background": "light"
     },
     "output_type": "display_data"
    },
    {
     "name": "stdout",
     "output_type": "stream",
     "text": [
      "\n",
      "Enter\n",
      "1:FOR UNIPOLAR\t\t2:FOR Polar RZ\n",
      "3:FOR NRZ-L\t\t4:FOR NRZ-I\n",
      "5:FOR MANCHESTER\t6: FOR DIFFERENTIAL MANCHESTER\n",
      "7: FOR AMI\n",
      "\n",
      "5\n"
     ]
    },
    {
     "data": {
      "image/png": "[encoded data removed]",
      "text/plain": [
       "<Figure size 432x288 with 1 Axes>"
      ]
     },
     "metadata": {
      "needs_background": "light"
     },
     "output_type": "display_data"
    },
    {
     "name": "stdout",
     "output_type": "stream",
     "text": [
      "\n",
      "Enter\n",
      "1:FOR UNIPOLAR\t\t2:FOR Polar RZ\n",
      "3:FOR NRZ-L\t\t4:FOR NRZ-I\n",
      "5:FOR MANCHESTER\t6: FOR DIFFERENTIAL MANCHESTER\n",
      "7: FOR AMI\n",
      "\n",
      "6\n"
     ]
    },
    {
     "data": {
      "image/png": "[encoded data removed]",
      "text/plain": [
       "<Figure size 432x288 with 1 Axes>"
      ]
     },
     "metadata": {
      "needs_background": "light"
     },
     "output_type": "display_data"
    },
    {
     "name": "stdout",
     "output_type": "stream",
     "text": [
      "\n",
      "Enter\n",
      "1:FOR UNIPOLAR\t\t2:FOR Polar RZ\n",
      "3:FOR NRZ-L\t\t4:FOR NRZ-I\n",
      "5:FOR MANCHESTER\t6: FOR DIFFERENTIAL MANCHESTER\n",
      "7: FOR AMI\n",
      "\n",
      "7\n",
      "\n",
      " if you want scrambling : press 1\n",
      " otherwise press any other key:\n",
      "\n",
      "2\n"
     ]
    },
    {
     "data": {
      "image/png": "[encoded data removed]",
      "text/plain": [
       "<Figure size 432x288 with 1 Axes>"
      ]
     },
     "metadata": {
      "needs_background": "light"
     },
     "output_type": "display_data"
    },
    {
     "name": "stdout",
     "output_type": "stream",
     "text": [
      "\n",
      "Enter\n",
      "1:FOR UNIPOLAR\t\t2:FOR Polar RZ\n",
      "3:FOR NRZ-L\t\t4:FOR NRZ-I\n",
      "5:FOR MANCHESTER\t6: FOR DIFFERENTIAL MANCHESTER\n",
      "7: FOR AMI\n",
      "\n",
      "7\n",
      "\n",
      " if you want scrambling : press 1\n",
      " otherwise press any other key:\n",
      "\n",
      "1\n",
      "For B8ZS press 1\n",
      "For HDB3 press 2\n",
      "\n",
      "1\n"
     ]
    },
    {
     "data": {
      "image/png": "[encoded data removed]",
      "text/plain": [
       "<Figure size 432x288 with 1 Axes>"
      ]
     },
     "metadata": {
      "needs_background": "light"
     },
     "output_type": "display_data"
    },
    {
     "name": "stdout",
     "output_type": "stream",
     "text": [
      "\n",
      "Enter\n",
      "1:FOR UNIPOLAR\t\t2:FOR Polar RZ\n",
      "3:FOR NRZ-L\t\t4:FOR NRZ-I\n",
      "5:FOR MANCHESTER\t6: FOR DIFFERENTIAL MANCHESTER\n",
      "7: FOR AMI\n",
      "\n",
      "7\n",
      "\n",
      " if you want scrambling : press 1\n",
      " otherwise press any other key:\n",
      "\n",
      "1\n",
      "For B8ZS press 1\n",
      "For HDB3 press 2\n",
      "\n",
      "2\n"
     ]
    },
    {
     "data": {
      "image/png": "[encoded data removed]",
      "text/plain": [
       "<Figure size 432x288 with 1 Axes>"
      ]
     },
     "metadata": {
      "needs_background": "light"
     },
     "output_type": "display_data"
    },
    {
     "name": "stdout",
     "output_type": "stream",
     "text": [
      "\n",
      "Enter\n",
      "1:FOR UNIPOLAR\t\t2:FOR Polar RZ\n",
      "3:FOR NRZ-L\t\t4:FOR NRZ-I\n",
      "5:FOR MANCHESTER\t6: FOR DIFFERENTIAL MANCHESTER\n",
      "7: FOR AMI\n",
      "\n"
     ]
    }
   ],
   "source": [
    "if __name__=='__main__':\n",
    "    print('Enter size of sequence:\\n')\n",
    "    size=int(input())\n",
    "    seq=[]\n",
    "    print('Enter ',size,' bits of the sequence one by one:\\n')\n",
    "    for i in range(size):\n",
    "        seq.append(int(input()))\n",
    "    while 1:\n",
    "        print('\\nEnter\\n1:FOR UNIPOLAR\\t\\t2:FOR Polar RZ\\n3:FOR NRZ-L\\t\\t4:FOR NRZ-I\\n5:FOR MANCHESTER\\t6: FOR DIFFERENTIAL MANCHESTER\\n7: FOR AMI\\n')\n",
    "        choice=int(input())\n",
    "    \n",
    "        if choice==1:\n",
    "            plt.ylabel('UNIPOLAR')\n",
    "            plt.plot(unipolar(seq),color='indigo',drawstyle='steps-pre',marker='D')\n",
    "            plt.show()\n",
    "        elif choice==2:\n",
    "            plt.ylabel('POLAR-RZ')\n",
    "            plt.plot(rz(seq),color='Black',drawstyle='steps-pre',marker='D')\n",
    "            plt.show()\n",
    "        elif choice==3:\n",
    "            plt.ylabel('P-NRZ-L')\n",
    "            plt.plot(polar_nrzl(seq),color='red',drawstyle='steps-pre',marker='D')\n",
    "            plt.show()\n",
    "        elif choice==4:\n",
    "            plt.ylabel('P-NRZ-I')\n",
    "            plt.plot(polar_nrzi(seq),color='darkblue',drawstyle='steps-pre',marker='D')\n",
    "            plt.show()\n",
    "        elif choice==5:\n",
    "            plt.ylabel('MaNcHeStEr')\n",
    "            plt.plot(manchester(seq),color='purple',drawstyle='steps-pre',marker='D')\n",
    "            plt.show()\n",
    "        elif choice==6:\n",
    "            plt.ylabel('DiFFerEnTiAl MaNcHeStEr')\n",
    "            plt.plot(defmanchester(seq),color='teal',drawstyle='steps-pre',marker='D')\n",
    "            plt.show()\n",
    "        elif choice==7:\n",
    "            print('\\n if you want scrambling : press 1\\n otherwise press any other key:\\n')\n",
    "            scramb=int(input())\n",
    "            if scramb==1:\n",
    "                print('For B8ZS press 1\\nFor HDB3 press 2\\n')\n",
    "                stype=int(input())\n",
    "                if stype==1:\n",
    "                    plt.ylabel('B8ZS')\n",
    "                    plt.plot(b8zs(seq),color='yellowgreen',drawstyle='steps-pre',marker='D')\n",
    "                    plt.show()\n",
    "                else:\n",
    "                    plt.ylabel('HDB3')\n",
    "                    plt.plot(hdb3(seq),color='lime',drawstyle='steps-pre',marker='D')\n",
    "                    plt.show()\n",
    "            else:\n",
    "                plt.ylabel('AMI')\n",
    "                plt.plot(ami(seq),color='indigo',drawstyle='steps-pre',marker='D')\n",
    "                plt.show()\n",
    "        else:\n",
    "            break"
   ]
  },
  {
   "cell_type": "code",
   "execution_count": null,
   "metadata": {},
   "outputs": [],
   "source": []
  }
 ],
 "metadata": {
  "kernelspec": {
   "display_name": "Python 3",
   "language": "python",
   "name": "python3"
  },
  "language_info": {
   "codemirror_mode": {
    "name": "ipython",
    "version": 3
   },
   "file_extension": ".py",
   "mimetype": "text/x-python",
   "name": "python",
   "nbconvert_exporter": "python",
   "pygments_lexer": "ipython3",
   "version": "3.7.1"
  }
 },
 "nbformat": 4,
 "nbformat_minor": 2
}
